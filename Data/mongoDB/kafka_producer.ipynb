{
 "cells": [
  {
   "cell_type": "code",
   "id": "initial_id",
   "metadata": {
    "collapsed": true,
    "ExecuteTime": {
     "end_time": "2025-04-06T14:22:42.467282Z",
     "start_time": "2025-04-06T14:22:42.463433Z"
    }
   },
   "source": [
    "import pandas as pd\n",
    "import json\n",
    "from kafka import KafkaProducer\n",
    "import logging"
   ],
   "outputs": [],
   "execution_count": 34
  },
  {
   "metadata": {
    "ExecuteTime": {
     "end_time": "2025-04-06T14:22:42.488587Z",
     "start_time": "2025-04-06T14:22:42.473499Z"
    }
   },
   "cell_type": "code",
   "source": [
    "# Set up logging\n",
    "logging.basicConfig(level=logging.INFO)\n",
    "logger = logging.getLogger()"
   ],
   "id": "19949c8974fb662d",
   "outputs": [],
   "execution_count": 35
  },
  {
   "metadata": {
    "ExecuteTime": {
     "end_time": "2025-04-06T14:22:42.726896Z",
     "start_time": "2025-04-06T14:22:42.499324Z"
    }
   },
   "cell_type": "code",
   "source": [
    "# Load embedded CSV\n",
    "df_sales_embedded = pd.read_csv('../../Data/fact_sales_embedded.csv')"
   ],
   "id": "5629e14147df37d0",
   "outputs": [],
   "execution_count": 36
  },
  {
   "metadata": {
    "ExecuteTime": {
     "end_time": "2025-04-06T14:22:42.741352Z",
     "start_time": "2025-04-06T14:22:42.738146Z"
    }
   },
   "cell_type": "code",
   "source": [
    "# Function to create mongoDB JSON object structure\n",
    "def to_embedded_document(row):\n",
    "    return {\n",
    "        \"_id\": f\"{row['order_id']}_{row['product_id']}\",  # For idempotency\n",
    "        \"order_id\": row[\"order_id\"],\n",
    "        \"date\": {\n",
    "            \"order_date\": row[\"order_date\"],\n",
    "            \"year\": row[\"year\"],\n",
    "            \"month\": row[\"month\"],\n",
    "            \"day\": row[\"day\"]\n",
    "        },\n",
    "        \"customer\": {\n",
    "            \"ship-city\": row[\"ship-city\"],\n",
    "            \"ship-state\": row[\"ship-state\"],\n",
    "            \"ship-postal-code\": row[\"ship-postal-code\"],\n",
    "            \"ship-country\": row[\"ship-country\"]\n",
    "        },\n",
    "        \"product\": {\n",
    "            \"SKU\": row[\"SKU\"],\n",
    "            \"Category\": row[\"Category\"],\n",
    "            \"Style\": row[\"Style\"],\n",
    "            \"Size\": row[\"Size\"]\n",
    "        },\n",
    "        \"fulfillment\": {\n",
    "            \"Fulfilment\": row[\"Fulfilment\"],\n",
    "            \"Sales_Channel_\": row[\"Sales_Channel_\"],\n",
    "            \"ship-service-level\": row[\"ship-service-level\"]\n",
    "        },\n",
    "        \"promotion\": row[\"promotion-ids\"],\n",
    "        \"status\": row[\"status_name\"],\n",
    "        \"courier_status\": row[\"courier_status_name\"],\n",
    "        \"quantity\": row[\"quantity\"],\n",
    "        \"amount\": row[\"amount\"],\n",
    "        \"currency\": row[\"currency\"],\n",
    "        \"B2B\": row[\"B2B\"],\n",
    "        \"fulfilled-by\": row[\"fulfilled-by\"],\n",
    "        \"timestamp\": row[\"timestamp\"]\n",
    "    }"
   ],
   "id": "27a5df4b4cb896b",
   "outputs": [],
   "execution_count": 37
  },
  {
   "metadata": {
    "ExecuteTime": {
     "end_time": "2025-04-06T14:22:42.860077Z",
     "start_time": "2025-04-06T14:22:42.751169Z"
    }
   },
   "cell_type": "code",
   "source": [
    "# Producer config\n",
    "producer = KafkaProducer(\n",
    "    bootstrap_servers='localhost:29092',\n",
    "    value_serializer=lambda v: json.dumps(v).encode('utf-8'),\n",
    "    linger_ms=0,           # No delay\n",
    "    batch_size=0           # Disable batching\n",
    ")"
   ],
   "id": "21b8c1f0f33d06ad",
   "outputs": [
    {
     "name": "stderr",
     "output_type": "stream",
     "text": [
      "INFO:kafka.conn:<BrokerConnection node_id=bootstrap-0 host=localhost:29092 <connecting> [IPv6 ('::1', 29092, 0, 0)]>: connecting to localhost:29092 [('::1', 29092, 0, 0) IPv6]\n",
      "INFO:kafka.conn:Probing node bootstrap-0 broker version\n",
      "INFO:kafka.conn:<BrokerConnection node_id=bootstrap-0 host=localhost:29092 <connecting> [IPv6 ('::1', 29092, 0, 0)]>: Connection complete.\n",
      "INFO:kafka.conn:Broker version identified as 2.6.0\n",
      "INFO:kafka.conn:Set configuration api_version=(2, 6, 0) to skip auto check_version requests on startup\n"
     ]
    }
   ],
   "execution_count": 38
  },
  {
   "metadata": {},
   "cell_type": "code",
   "source": [
    "# Send one message at a time\n",
    "for _, row in df_sales_embedded.iterrows():\n",
    "    message = to_embedded_document(row)\n",
    "    producer.send('fact_sales_topic_2', message).get(timeout=10)  # Block until ack\n",
    "\n",
    "producer.close()"
   ],
   "id": "cbed03220aa0eaa7",
   "outputs": [],
   "execution_count": null
  },
  {
   "metadata": {
    "ExecuteTime": {
     "end_time": "2025-04-06T14:23:36.877892Z",
     "start_time": "2025-04-06T14:23:36.875831Z"
    }
   },
   "cell_type": "code",
   "source": "",
   "id": "1c7e141377ab1834",
   "outputs": [],
   "execution_count": null
  }
 ],
 "metadata": {
  "kernelspec": {
   "display_name": "Python 3",
   "language": "python",
   "name": "python3"
  },
  "language_info": {
   "codemirror_mode": {
    "name": "ipython",
    "version": 2
   },
   "file_extension": ".py",
   "mimetype": "text/x-python",
   "name": "python",
   "nbconvert_exporter": "python",
   "pygments_lexer": "ipython2",
   "version": "2.7.6"
  }
 },
 "nbformat": 4,
 "nbformat_minor": 5
}

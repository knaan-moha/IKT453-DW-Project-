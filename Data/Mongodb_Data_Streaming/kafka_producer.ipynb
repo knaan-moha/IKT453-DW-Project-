{
 "cells": [
  {
   "cell_type": "code",
   "id": "initial_id",
   "metadata": {
    "collapsed": true,
    "ExecuteTime": {
     "end_time": "2025-04-10T11:47:03.272097Z",
     "start_time": "2025-04-10T11:47:02.715976Z"
    }
   },
   "source": [
    "import pandas as pd\n",
    "import json\n",
    "from kafka import KafkaProducer\n",
    "import logging"
   ],
   "outputs": [],
   "execution_count": 1
  },
  {
   "metadata": {
    "ExecuteTime": {
     "end_time": "2025-04-10T11:47:03.287192Z",
     "start_time": "2025-04-10T11:47:03.284221Z"
    }
   },
   "cell_type": "code",
   "source": [
    "# Set up logging\n",
    "logging.basicConfig(level=logging.INFO)\n",
    "logger = logging.getLogger()"
   ],
   "id": "19949c8974fb662d",
   "outputs": [],
   "execution_count": 2
  },
  {
   "metadata": {
    "ExecuteTime": {
     "end_time": "2025-04-10T11:47:03.572714Z",
     "start_time": "2025-04-10T11:47:03.312989Z"
    }
   },
   "cell_type": "code",
   "source": [
    "# Load embedded CSV\n",
    "df_sales_embedded = pd.read_csv('../../Data/fact_sales_embedded.csv')"
   ],
   "id": "5629e14147df37d0",
   "outputs": [],
   "execution_count": 3
  },
  {
   "metadata": {
    "ExecuteTime": {
     "end_time": "2025-04-10T11:47:03.754674Z",
     "start_time": "2025-04-10T11:47:03.751023Z"
    }
   },
   "cell_type": "code",
   "source": [
    "# Function to create MongoDB JSON object structure\n",
    "def to_embedded_document(row):\n",
    "    return {\n",
    "        \"_id\": f\"{row['order_id']}_{row['product_id']}\",  # For idempotency\n",
    "        \"order_id\": row[\"order_id\"],\n",
    "        \"date\": {\n",
    "            \"order_date\": row[\"order_date\"],\n",
    "            \"year\": row[\"year\"],\n",
    "            \"month\": row[\"month\"],\n",
    "            \"day\": row[\"day\"]\n",
    "        },\n",
    "        \"customer\": {\n",
    "            \"customer_id\": row[\"customer_id\"],\n",
    "            \"ship_city\": row[\"ship-city\"],\n",
    "            \"ship_state\": row[\"ship-state\"],\n",
    "            \"ship_postal_code\": row[\"ship-postal-code\"],\n",
    "            \"ship_country\": row[\"ship-country\"]\n",
    "        },\n",
    "        \"product\": {\n",
    "            \"product_id\": row[\"product_id\"],\n",
    "            \"SKU\": row[\"SKU\"],\n",
    "            \"Category\": row[\"Category\"],\n",
    "            \"Style\": row[\"Style\"],\n",
    "            \"Size\": row[\"Size\"]\n",
    "        },\n",
    "        \"fulfillment\": {\n",
    "            \"fulfillment_id\": row[\"fulfillment_id\"],\n",
    "            \"Fulfilment\": row[\"Fulfilment\"],\n",
    "            \"Sales_Channel\": row[\"Sales_Channel_\"],\n",
    "            \"ship_service_level\": row[\"ship-service-level\"]\n",
    "        },\n",
    "        \"promotion\": row[\"promotion-ids\"],\n",
    "        \"status\": row[\"status_name\"],\n",
    "        \"courier_status\": row[\"courier_status_name\"],\n",
    "        \"quantity\": row[\"quantity\"],\n",
    "        \"amount\": row[\"amount\"],\n",
    "        \"currency\": row[\"currency\"],\n",
    "        \"B2B\": row[\"B2B\"],\n",
    "        \"fulfilled_by\": row[\"fulfilled-by\"],\n",
    "        \"timestamp\": row[\"timestamp\"]\n",
    "    }"
   ],
   "id": "27a5df4b4cb896b",
   "outputs": [],
   "execution_count": 4
  },
  {
   "metadata": {
    "ExecuteTime": {
     "end_time": "2025-04-10T11:47:03.915671Z",
     "start_time": "2025-04-10T11:47:03.764665Z"
    }
   },
   "cell_type": "code",
   "source": [
    "# Producer config\n",
    "producer = KafkaProducer(\n",
    "    bootstrap_servers='localhost:29092',\n",
    "    value_serializer=lambda v: json.dumps(v).encode('utf-8'),\n",
    "    linger_ms=0,           # No delay\n",
    "    batch_size=0           # Disable batching\n",
    ")"
   ],
   "id": "21b8c1f0f33d06ad",
   "outputs": [
    {
     "name": "stderr",
     "output_type": "stream",
     "text": [
      "INFO:kafka.conn:<BrokerConnection node_id=bootstrap-0 host=localhost:29092 <connecting> [IPv6 ('::1', 29092, 0, 0)]>: connecting to localhost:29092 [('::1', 29092, 0, 0) IPv6]\n",
      "INFO:kafka.conn:Probing node bootstrap-0 broker version\n",
      "INFO:kafka.conn:<BrokerConnection node_id=bootstrap-0 host=localhost:29092 <connecting> [IPv6 ('::1', 29092, 0, 0)]>: Connection complete.\n",
      "INFO:kafka.conn:Broker version identified as 2.6.0\n",
      "INFO:kafka.conn:Set configuration api_version=(2, 6, 0) to skip auto check_version requests on startup\n"
     ]
    }
   ],
   "execution_count": 5
  },
  {
   "metadata": {
    "ExecuteTime": {
     "end_time": "2025-04-10T11:47:56.659534Z",
     "start_time": "2025-04-10T11:47:03.924804Z"
    }
   },
   "cell_type": "code",
   "source": [
    "# Send one message at a time\n",
    "for _, row in df_sales_embedded.iterrows():\n",
    "    message = to_embedded_document(row)\n",
    "    producer.send('fact_sales_topic_2', message).get(timeout=10)  # Block until ack\n",
    "\n",
    "producer.close()"
   ],
   "id": "cbed03220aa0eaa7",
   "outputs": [
    {
     "name": "stderr",
     "output_type": "stream",
     "text": [
      "INFO:kafka.conn:<BrokerConnection node_id=1 host=127.0.0.1:29092 <connecting> [IPv4 ('127.0.0.1', 29092)]>: connecting to 127.0.0.1:29092 [('127.0.0.1', 29092) IPv4]\n",
      "INFO:kafka.conn:<BrokerConnection node_id=1 host=127.0.0.1:29092 <connecting> [IPv4 ('127.0.0.1', 29092)]>: Connection complete.\n",
      "INFO:kafka.conn:<BrokerConnection node_id=bootstrap-0 host=localhost:29092 <connected> [IPv6 ('::1', 29092, 0, 0)]>: Closing connection. \n",
      "INFO:kafka.producer.kafka:Closing the Kafka producer with 4294967.0 secs timeout.\n",
      "INFO:kafka.conn:<BrokerConnection node_id=1 host=127.0.0.1:29092 <connected> [IPv4 ('127.0.0.1', 29092)]>: Closing connection. \n"
     ]
    }
   ],
   "execution_count": 6
  },
  {
   "metadata": {
    "ExecuteTime": {
     "end_time": "2025-04-10T11:47:56.672363Z",
     "start_time": "2025-04-10T11:47:56.669331Z"
    }
   },
   "cell_type": "code",
   "source": "",
   "id": "1c7e141377ab1834",
   "outputs": [],
   "execution_count": null
  }
 ],
 "metadata": {
  "kernelspec": {
   "display_name": "Python 3",
   "language": "python",
   "name": "python3"
  },
  "language_info": {
   "codemirror_mode": {
    "name": "ipython",
    "version": 2
   },
   "file_extension": ".py",
   "mimetype": "text/x-python",
   "name": "python",
   "nbconvert_exporter": "python",
   "pygments_lexer": "ipython2",
   "version": "2.7.6"
  }
 },
 "nbformat": 4,
 "nbformat_minor": 5
}

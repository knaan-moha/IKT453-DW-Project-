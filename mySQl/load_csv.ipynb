{
 "cells": [
  {
   "cell_type": "code",
   "execution_count": 8,
   "metadata": {},
   "outputs": [],
   "source": [
    "import pandas as pd\n",
    "import numpy as np\n",
    "import os \n",
    "\n"
   ]
  },
  {
   "cell_type": "code",
   "execution_count": 40,
   "metadata": {},
   "outputs": [
    {
     "name": "stdout",
     "output_type": "stream",
     "text": [
      "Index(['Order_ID', 'Date', 'Status', 'Fulfilment', 'Sales_Channel_',\n",
      "       'ship-service-level', 'Style', 'SKU', 'Category', 'Size', 'ASIN',\n",
      "       'Courier_Status', 'Qty', 'currency', 'Amount', 'ship-city',\n",
      "       'ship-state', 'ship-postal-code', 'ship-country', 'promotion-ids',\n",
      "       'B2B', 'fulfilled-by'],\n",
      "      dtype='object')\n"
     ]
    }
   ],
   "source": [
    "file_path = \"../Data/Amazon Sale Report.csv\"\n",
    "\n",
    "df = pd.read_csv(file_path, low_memory=False)\n",
    "\n",
    "#* Cleaning column names\n",
    "df.columns = df.columns.str.replace(' ', '_')\n",
    "\n",
    "#* Filling missing values for specific columns\n",
    "df['Courier_Status'] = df['Courier_Status'].fillna('unknown')\n",
    "df['promotion-ids'] = df['promotion-ids'].fillna('no promotion')\n",
    "df.drop(columns=['index','Unnamed:_22'], inplace=True)\n",
    "\n",
    "#print(df.count())\n",
    "print(df.columns)\n"
   ]
  },
  {
   "cell_type": "code",
   "execution_count": 61,
   "metadata": {},
   "outputs": [
    {
     "name": "stdout",
     "output_type": "stream",
     "text": [
      "   customer_id    ship-city   ship-state  ship-postal-code ship-country\n",
      "0            1       MUMBAI  MAHARASHTRA          400081.0           IN\n",
      "1            2    BENGALURU    KARNATAKA          560085.0           IN\n",
      "2            3  NAVI MUMBAI  MAHARASHTRA          410210.0           IN\n",
      "3            4   PUDUCHERRY   PUDUCHERRY          605008.0           IN\n",
      "4            5      CHENNAI   TAMIL NADU          600073.0           IN\n"
     ]
    }
   ],
   "source": [
    "#* customer dimension table\n",
    "\n",
    "dim_customer = df[['ship-city', 'ship-state', 'ship-postal-code', 'ship-country']].drop_duplicates().dropna()\n",
    "dim_customer.reset_index(drop=True, inplace=True)\n",
    "dim_customer.insert(0, 'customer_id', dim_customer.index + 1)\n",
    "\n",
    "print(dim_customer.head())\n"
   ]
  },
  {
   "cell_type": "code",
   "execution_count": null,
   "metadata": {},
   "outputs": [
    {
     "name": "stdout",
     "output_type": "stream",
     "text": [
      "Index(['date_id', 'order_date', 'year', 'month', 'day'], dtype='object')\n"
     ]
    }
   ],
   "source": [
    "\n",
    "#* creating dim table for the date \n",
    "df['Date'] = pd.to_datetime(df['Date'], format='%m-%d-%y', errors='coerce')\n",
    "dim_date = df[['Date']].drop_duplicates().dropna().rename(columns={'Date': 'order_date'})\n",
    "dim_date['year'] = dim_date['order_date'].dt.year\n",
    "dim_date['month'] = dim_date['order_date'].dt.month\n",
    "dim_date['day'] = dim_date['order_date'].dt.day\n",
    "dim_date.reset_index(drop=True, inplace=True)\n",
    "dim_date.insert(0, 'date_id', dim_date.index + 1)\n",
    "\n",
    "print(dim_date.columns)"
   ]
  },
  {
   "cell_type": "code",
   "execution_count": 37,
   "metadata": {},
   "outputs": [
    {
     "name": "stdout",
     "output_type": "stream",
     "text": [
      "Index(['product_id', 'SKU', 'Category', 'Style', 'Size'], dtype='object')\n"
     ]
    }
   ],
   "source": [
    "dim_product = df[['SKU', 'Category', 'Style', 'Size']].drop_duplicates().dropna()\n",
    "dim_product.reset_index(drop=True, inplace=True)\n",
    "dim_product.insert(0, 'product_id', dim_product.index + 1)\n",
    "print(dim_product.columns)"
   ]
  },
  {
   "cell_type": "code",
   "execution_count": null,
   "metadata": {},
   "outputs": [
    {
     "name": "stdout",
     "output_type": "stream",
     "text": [
      "   fulfillment_id Fulfilment Sales_Channel_ ship-service-level\n",
      "0               1   Merchant      Amazon.in           Standard\n",
      "1               2     Amazon      Amazon.in          Expedited\n",
      "2               3     Amazon      Amazon.in           Standard\n",
      "3               4     Amazon     Non-Amazon           Standard\n"
     ]
    }
   ],
   "source": [
    "dim_fulfillment = df[['Fulfilment', 'Sales_Channel_', 'ship-service-level']].drop_duplicates().dropna()\n",
    "dim_fulfillment.reset_index(drop=True, inplace=True)\n",
    "dim_fulfillment.insert(0, 'fulfillment_id', dim_fulfillment.index + 1)\n",
    "#print(dim_fulfillment)"
   ]
  },
  {
   "cell_type": "code",
   "execution_count": 45,
   "metadata": {},
   "outputs": [
    {
     "name": "stdout",
     "output_type": "stream",
     "text": [
      "      promotion_id                                      promotion-ids\n",
      "0                1                                       no promotion\n",
      "1                2  Amazon PLCC Free-Financing Universal Merchant ...\n",
      "2                3       IN Core Free Shipping 2015/04/08 23-48-5-108\n",
      "3                4  Amazon PLCC Free-Financing Universal Merchant ...\n",
      "4                5  Amazon PLCC Free-Financing Universal Merchant ...\n",
      "...            ...                                                ...\n",
      "5783          5784  Amazon PLCC Free-Financing Universal Merchant ...\n",
      "5784          5785  Amazon PLCC Free-Financing Universal Merchant ...\n",
      "5785          5786  Amazon PLCC Free-Financing Universal Merchant ...\n",
      "5786          5787  Amazon PLCC Free-Financing Universal Merchant ...\n",
      "5787          5788  Amazon PLCC Free-Financing Universal Merchant ...\n",
      "\n",
      "[5788 rows x 2 columns]\n"
     ]
    }
   ],
   "source": [
    "dim_promotion = df[['promotion-ids']].drop_duplicates().dropna()\n",
    "dim_promotion.reset_index(drop=True, inplace=True)\n",
    "dim_promotion.insert(0, 'promotion_id', dim_promotion.index + 1)\n",
    "print(dim_promotion)"
   ]
  },
  {
   "cell_type": "code",
   "execution_count": 48,
   "metadata": {},
   "outputs": [
    {
     "name": "stdout",
     "output_type": "stream",
     "text": [
      "    status_id                    status_name\n",
      "0           1                      Cancelled\n",
      "1           2   Shipped - Delivered to Buyer\n",
      "2           3                        Shipped\n",
      "3           4   Shipped - Returned to Seller\n",
      "4           5    Shipped - Rejected by Buyer\n",
      "5           6      Shipped - Lost in Transit\n",
      "6           7     Shipped - Out for Delivery\n",
      "7           8  Shipped - Returning to Seller\n",
      "8           9            Shipped - Picked Up\n",
      "9          10                        Pending\n",
      "10         11  Pending - Waiting for Pick Up\n",
      "11         12              Shipped - Damaged\n",
      "12         13                       Shipping\n"
     ]
    }
   ],
   "source": [
    "dim_status = df[['Status']].drop_duplicates().dropna().rename(columns={'Status': 'status_name'})\n",
    "dim_status.reset_index(drop=True, inplace=True)\n",
    "dim_status.insert(0, 'status_id', dim_status.index + 1)\n",
    "print(dim_status)\n"
   ]
  },
  {
   "cell_type": "code",
   "execution_count": 50,
   "metadata": {},
   "outputs": [
    {
     "name": "stdout",
     "output_type": "stream",
     "text": [
      "   courier_status_id courier_status_name\n",
      "0                  1             unknown\n",
      "1                  2             Shipped\n",
      "2                  3           Cancelled\n",
      "3                  4           Unshipped\n"
     ]
    }
   ],
   "source": [
    "dim_courier_status = df[['Courier_Status']].drop_duplicates().dropna().rename(columns={'Courier_Status': 'courier_status_name'})\n",
    "dim_courier_status.reset_index(drop=True, inplace=True)\n",
    "dim_courier_status.insert(0, 'courier_status_id', dim_courier_status.index + 1)\n",
    "print(dim_courier_status)"
   ]
  },
  {
   "cell_type": "code",
   "execution_count": null,
   "metadata": {},
   "outputs": [
    {
     "name": "stdout",
     "output_type": "stream",
     "text": [
      "Index(['order_id', 'date_id', 'customer_id', 'product_id', 'fulfillment_id',\n",
      "       'promotion_id', 'status_id', 'courier_status_id', 'quantity', 'amount',\n",
      "       'currency', 'B2B', 'fulfilled-by'],\n",
      "      dtype='object')\n"
     ]
    }
   ],
   "source": [
    " \n",
    "fact_sales = df[['Order_ID', 'Date', 'ship-city', 'ship-state', 'ship-postal-code', 'ship-country', 'SKU', 'Category', 'Style', 'Fulfilment', 'Sales_Channel_', 'ship-service-level', 'promotion-ids', 'Status', 'Courier_Status', 'Qty', 'Amount', 'currency', 'B2B', 'fulfilled-by']].dropna()\n",
    "\n",
    " \n",
    "df['Date'] = pd.to_datetime(df['Date'], format='%m-%d-%y', errors='coerce')\n",
    "fact_sales['Date'] = pd.to_datetime(fact_sales['Date'], format='%m-%d-%y', errors='coerce')\n",
    "\n",
    "# Merge fact_sales with dimension tables\n",
    "fact_sales = fact_sales.merge(dim_customer, on=['ship-city', 'ship-state', 'ship-postal-code', 'ship-country'], how='left')\n",
    "fact_sales = fact_sales.merge(dim_product, on=['SKU', 'Category', 'Style'], how='left')\n",
    "fact_sales = fact_sales.merge(dim_fulfillment, on=['Fulfilment', 'Sales_Channel_', 'ship-service-level'], how='left')\n",
    "fact_sales = fact_sales.merge(dim_promotion, on=['promotion-ids'], how='left')\n",
    "fact_sales = fact_sales.merge(dim_status, left_on='Status', right_on='status_name', how='left').drop(columns=['status_name'])\n",
    "fact_sales = fact_sales.merge(dim_courier_status, left_on='Courier_Status', right_on='courier_status_name', how='left').drop(columns=['courier_status_name'])\n",
    "\n",
    " \n",
    "fact_sales = fact_sales.merge(dim_date, left_on='Date', right_on='order_date', how='left')\n",
    "\n",
    " \n",
    "fact_sales = fact_sales.rename(columns={'Order_ID': 'order_id', 'Qty': 'quantity', 'Amount': 'amount'})\n",
    "\n",
    " \n",
    "fact_sales = fact_sales[['order_id', 'date_id', 'customer_id', 'product_id', 'fulfillment_id', 'promotion_id', 'status_id', 'courier_status_id', 'quantity', 'amount', 'currency', 'B2B', 'fulfilled-by']]\n",
    "\n",
    " \n",
    "fact_sales.reset_index(drop=True, inplace=True)\n",
    "\n",
    "\n",
    "print(fact_sales.columns)"
   ]
  },
  {
   "cell_type": "code",
   "execution_count": 78,
   "metadata": {},
   "outputs": [],
   "source": [
    "#* saving the dimension table to a csv file\n",
    "dim_customer.to_csv('../Data/dim_customer.csv', index=False)\n",
    "dim_date.to_csv('../Data/dim_date.csv', index=False)\n",
    "dim_product.to_csv('../Data/dim_product.csv', index=False)\n",
    "dim_fulfillment.to_csv('../Data/dim_fulfillment.csv', index=False)\n",
    "dim_promotion.to_csv('../Data/dim_promotion.csv', index=False)\n",
    "dim_status.to_csv('../Data/dim_status.csv', index=False)\n",
    "dim_courier_status.to_csv('../Data/dim_courier_status.csv', index=False)\n",
    "fact_sales.to_csv(\"../Data/fact_sales.csv\", index=False)\n"
   ]
  }
 ],
 "metadata": {
  "kernelspec": {
   "display_name": "base",
   "language": "python",
   "name": "python3"
  },
  "language_info": {
   "codemirror_mode": {
    "name": "ipython",
    "version": 3
   },
   "file_extension": ".py",
   "mimetype": "text/x-python",
   "name": "python",
   "nbconvert_exporter": "python",
   "pygments_lexer": "ipython3",
   "version": "3.11.8"
  }
 },
 "nbformat": 4,
 "nbformat_minor": 2
}

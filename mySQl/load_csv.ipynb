{
 "cells": [
  {
   "cell_type": "code",
   "execution_count": 3,
   "metadata": {},
   "outputs": [],
   "source": [
    "import pandas as pd\n",
    "import numpy as np\n",
    "import os \n",
    "\n"
   ]
  },
  {
   "cell_type": "code",
   "execution_count": 4,
   "metadata": {},
   "outputs": [
    {
     "ename": "FileNotFoundError",
     "evalue": "[Errno 2] No such file or directory: '../Data/Amazon Sale Report.csv'",
     "output_type": "error",
     "traceback": [
      "\u001b[1;31m---------------------------------------------------------------------------\u001b[0m",
      "\u001b[1;31mFileNotFoundError\u001b[0m                         Traceback (most recent call last)",
      "Cell \u001b[1;32mIn[4], line 3\u001b[0m\n\u001b[0;32m      1\u001b[0m file_path \u001b[38;5;241m=\u001b[39m \u001b[38;5;124m\"\u001b[39m\u001b[38;5;124m../Data/Amazon Sale Report.csv\u001b[39m\u001b[38;5;124m\"\u001b[39m\n\u001b[1;32m----> 3\u001b[0m df \u001b[38;5;241m=\u001b[39m \u001b[43mpd\u001b[49m\u001b[38;5;241;43m.\u001b[39;49m\u001b[43mread_csv\u001b[49m\u001b[43m(\u001b[49m\u001b[43mfile_path\u001b[49m\u001b[43m,\u001b[49m\u001b[43m \u001b[49m\u001b[43mlow_memory\u001b[49m\u001b[38;5;241;43m=\u001b[39;49m\u001b[38;5;28;43;01mFalse\u001b[39;49;00m\u001b[43m)\u001b[49m\n\u001b[0;32m      5\u001b[0m \u001b[38;5;66;03m#* Cleaning column names\u001b[39;00m\n\u001b[0;32m      6\u001b[0m df\u001b[38;5;241m.\u001b[39mcolumns \u001b[38;5;241m=\u001b[39m df\u001b[38;5;241m.\u001b[39mcolumns\u001b[38;5;241m.\u001b[39mstr\u001b[38;5;241m.\u001b[39mreplace(\u001b[38;5;124m'\u001b[39m\u001b[38;5;124m \u001b[39m\u001b[38;5;124m'\u001b[39m, \u001b[38;5;124m'\u001b[39m\u001b[38;5;124m_\u001b[39m\u001b[38;5;124m'\u001b[39m)\n",
      "File \u001b[1;32mc:\\Users\\doris\\anaconda3\\Lib\\site-packages\\pandas\\io\\parsers\\readers.py:1026\u001b[0m, in \u001b[0;36mread_csv\u001b[1;34m(filepath_or_buffer, sep, delimiter, header, names, index_col, usecols, dtype, engine, converters, true_values, false_values, skipinitialspace, skiprows, skipfooter, nrows, na_values, keep_default_na, na_filter, verbose, skip_blank_lines, parse_dates, infer_datetime_format, keep_date_col, date_parser, date_format, dayfirst, cache_dates, iterator, chunksize, compression, thousands, decimal, lineterminator, quotechar, quoting, doublequote, escapechar, comment, encoding, encoding_errors, dialect, on_bad_lines, delim_whitespace, low_memory, memory_map, float_precision, storage_options, dtype_backend)\u001b[0m\n\u001b[0;32m   1013\u001b[0m kwds_defaults \u001b[38;5;241m=\u001b[39m _refine_defaults_read(\n\u001b[0;32m   1014\u001b[0m     dialect,\n\u001b[0;32m   1015\u001b[0m     delimiter,\n\u001b[1;32m   (...)\u001b[0m\n\u001b[0;32m   1022\u001b[0m     dtype_backend\u001b[38;5;241m=\u001b[39mdtype_backend,\n\u001b[0;32m   1023\u001b[0m )\n\u001b[0;32m   1024\u001b[0m kwds\u001b[38;5;241m.\u001b[39mupdate(kwds_defaults)\n\u001b[1;32m-> 1026\u001b[0m \u001b[38;5;28;01mreturn\u001b[39;00m \u001b[43m_read\u001b[49m\u001b[43m(\u001b[49m\u001b[43mfilepath_or_buffer\u001b[49m\u001b[43m,\u001b[49m\u001b[43m \u001b[49m\u001b[43mkwds\u001b[49m\u001b[43m)\u001b[49m\n",
      "File \u001b[1;32mc:\\Users\\doris\\anaconda3\\Lib\\site-packages\\pandas\\io\\parsers\\readers.py:620\u001b[0m, in \u001b[0;36m_read\u001b[1;34m(filepath_or_buffer, kwds)\u001b[0m\n\u001b[0;32m    617\u001b[0m _validate_names(kwds\u001b[38;5;241m.\u001b[39mget(\u001b[38;5;124m\"\u001b[39m\u001b[38;5;124mnames\u001b[39m\u001b[38;5;124m\"\u001b[39m, \u001b[38;5;28;01mNone\u001b[39;00m))\n\u001b[0;32m    619\u001b[0m \u001b[38;5;66;03m# Create the parser.\u001b[39;00m\n\u001b[1;32m--> 620\u001b[0m parser \u001b[38;5;241m=\u001b[39m \u001b[43mTextFileReader\u001b[49m\u001b[43m(\u001b[49m\u001b[43mfilepath_or_buffer\u001b[49m\u001b[43m,\u001b[49m\u001b[43m \u001b[49m\u001b[38;5;241;43m*\u001b[39;49m\u001b[38;5;241;43m*\u001b[39;49m\u001b[43mkwds\u001b[49m\u001b[43m)\u001b[49m\n\u001b[0;32m    622\u001b[0m \u001b[38;5;28;01mif\u001b[39;00m chunksize \u001b[38;5;129;01mor\u001b[39;00m iterator:\n\u001b[0;32m    623\u001b[0m     \u001b[38;5;28;01mreturn\u001b[39;00m parser\n",
      "File \u001b[1;32mc:\\Users\\doris\\anaconda3\\Lib\\site-packages\\pandas\\io\\parsers\\readers.py:1620\u001b[0m, in \u001b[0;36mTextFileReader.__init__\u001b[1;34m(self, f, engine, **kwds)\u001b[0m\n\u001b[0;32m   1617\u001b[0m     \u001b[38;5;28mself\u001b[39m\u001b[38;5;241m.\u001b[39moptions[\u001b[38;5;124m\"\u001b[39m\u001b[38;5;124mhas_index_names\u001b[39m\u001b[38;5;124m\"\u001b[39m] \u001b[38;5;241m=\u001b[39m kwds[\u001b[38;5;124m\"\u001b[39m\u001b[38;5;124mhas_index_names\u001b[39m\u001b[38;5;124m\"\u001b[39m]\n\u001b[0;32m   1619\u001b[0m \u001b[38;5;28mself\u001b[39m\u001b[38;5;241m.\u001b[39mhandles: IOHandles \u001b[38;5;241m|\u001b[39m \u001b[38;5;28;01mNone\u001b[39;00m \u001b[38;5;241m=\u001b[39m \u001b[38;5;28;01mNone\u001b[39;00m\n\u001b[1;32m-> 1620\u001b[0m \u001b[38;5;28mself\u001b[39m\u001b[38;5;241m.\u001b[39m_engine \u001b[38;5;241m=\u001b[39m \u001b[38;5;28;43mself\u001b[39;49m\u001b[38;5;241;43m.\u001b[39;49m\u001b[43m_make_engine\u001b[49m\u001b[43m(\u001b[49m\u001b[43mf\u001b[49m\u001b[43m,\u001b[49m\u001b[43m \u001b[49m\u001b[38;5;28;43mself\u001b[39;49m\u001b[38;5;241;43m.\u001b[39;49m\u001b[43mengine\u001b[49m\u001b[43m)\u001b[49m\n",
      "File \u001b[1;32mc:\\Users\\doris\\anaconda3\\Lib\\site-packages\\pandas\\io\\parsers\\readers.py:1880\u001b[0m, in \u001b[0;36mTextFileReader._make_engine\u001b[1;34m(self, f, engine)\u001b[0m\n\u001b[0;32m   1878\u001b[0m     \u001b[38;5;28;01mif\u001b[39;00m \u001b[38;5;124m\"\u001b[39m\u001b[38;5;124mb\u001b[39m\u001b[38;5;124m\"\u001b[39m \u001b[38;5;129;01mnot\u001b[39;00m \u001b[38;5;129;01min\u001b[39;00m mode:\n\u001b[0;32m   1879\u001b[0m         mode \u001b[38;5;241m+\u001b[39m\u001b[38;5;241m=\u001b[39m \u001b[38;5;124m\"\u001b[39m\u001b[38;5;124mb\u001b[39m\u001b[38;5;124m\"\u001b[39m\n\u001b[1;32m-> 1880\u001b[0m \u001b[38;5;28mself\u001b[39m\u001b[38;5;241m.\u001b[39mhandles \u001b[38;5;241m=\u001b[39m \u001b[43mget_handle\u001b[49m\u001b[43m(\u001b[49m\n\u001b[0;32m   1881\u001b[0m \u001b[43m    \u001b[49m\u001b[43mf\u001b[49m\u001b[43m,\u001b[49m\n\u001b[0;32m   1882\u001b[0m \u001b[43m    \u001b[49m\u001b[43mmode\u001b[49m\u001b[43m,\u001b[49m\n\u001b[0;32m   1883\u001b[0m \u001b[43m    \u001b[49m\u001b[43mencoding\u001b[49m\u001b[38;5;241;43m=\u001b[39;49m\u001b[38;5;28;43mself\u001b[39;49m\u001b[38;5;241;43m.\u001b[39;49m\u001b[43moptions\u001b[49m\u001b[38;5;241;43m.\u001b[39;49m\u001b[43mget\u001b[49m\u001b[43m(\u001b[49m\u001b[38;5;124;43m\"\u001b[39;49m\u001b[38;5;124;43mencoding\u001b[39;49m\u001b[38;5;124;43m\"\u001b[39;49m\u001b[43m,\u001b[49m\u001b[43m \u001b[49m\u001b[38;5;28;43;01mNone\u001b[39;49;00m\u001b[43m)\u001b[49m\u001b[43m,\u001b[49m\n\u001b[0;32m   1884\u001b[0m \u001b[43m    \u001b[49m\u001b[43mcompression\u001b[49m\u001b[38;5;241;43m=\u001b[39;49m\u001b[38;5;28;43mself\u001b[39;49m\u001b[38;5;241;43m.\u001b[39;49m\u001b[43moptions\u001b[49m\u001b[38;5;241;43m.\u001b[39;49m\u001b[43mget\u001b[49m\u001b[43m(\u001b[49m\u001b[38;5;124;43m\"\u001b[39;49m\u001b[38;5;124;43mcompression\u001b[39;49m\u001b[38;5;124;43m\"\u001b[39;49m\u001b[43m,\u001b[49m\u001b[43m \u001b[49m\u001b[38;5;28;43;01mNone\u001b[39;49;00m\u001b[43m)\u001b[49m\u001b[43m,\u001b[49m\n\u001b[0;32m   1885\u001b[0m \u001b[43m    \u001b[49m\u001b[43mmemory_map\u001b[49m\u001b[38;5;241;43m=\u001b[39;49m\u001b[38;5;28;43mself\u001b[39;49m\u001b[38;5;241;43m.\u001b[39;49m\u001b[43moptions\u001b[49m\u001b[38;5;241;43m.\u001b[39;49m\u001b[43mget\u001b[49m\u001b[43m(\u001b[49m\u001b[38;5;124;43m\"\u001b[39;49m\u001b[38;5;124;43mmemory_map\u001b[39;49m\u001b[38;5;124;43m\"\u001b[39;49m\u001b[43m,\u001b[49m\u001b[43m \u001b[49m\u001b[38;5;28;43;01mFalse\u001b[39;49;00m\u001b[43m)\u001b[49m\u001b[43m,\u001b[49m\n\u001b[0;32m   1886\u001b[0m \u001b[43m    \u001b[49m\u001b[43mis_text\u001b[49m\u001b[38;5;241;43m=\u001b[39;49m\u001b[43mis_text\u001b[49m\u001b[43m,\u001b[49m\n\u001b[0;32m   1887\u001b[0m \u001b[43m    \u001b[49m\u001b[43merrors\u001b[49m\u001b[38;5;241;43m=\u001b[39;49m\u001b[38;5;28;43mself\u001b[39;49m\u001b[38;5;241;43m.\u001b[39;49m\u001b[43moptions\u001b[49m\u001b[38;5;241;43m.\u001b[39;49m\u001b[43mget\u001b[49m\u001b[43m(\u001b[49m\u001b[38;5;124;43m\"\u001b[39;49m\u001b[38;5;124;43mencoding_errors\u001b[39;49m\u001b[38;5;124;43m\"\u001b[39;49m\u001b[43m,\u001b[49m\u001b[43m \u001b[49m\u001b[38;5;124;43m\"\u001b[39;49m\u001b[38;5;124;43mstrict\u001b[39;49m\u001b[38;5;124;43m\"\u001b[39;49m\u001b[43m)\u001b[49m\u001b[43m,\u001b[49m\n\u001b[0;32m   1888\u001b[0m \u001b[43m    \u001b[49m\u001b[43mstorage_options\u001b[49m\u001b[38;5;241;43m=\u001b[39;49m\u001b[38;5;28;43mself\u001b[39;49m\u001b[38;5;241;43m.\u001b[39;49m\u001b[43moptions\u001b[49m\u001b[38;5;241;43m.\u001b[39;49m\u001b[43mget\u001b[49m\u001b[43m(\u001b[49m\u001b[38;5;124;43m\"\u001b[39;49m\u001b[38;5;124;43mstorage_options\u001b[39;49m\u001b[38;5;124;43m\"\u001b[39;49m\u001b[43m,\u001b[49m\u001b[43m \u001b[49m\u001b[38;5;28;43;01mNone\u001b[39;49;00m\u001b[43m)\u001b[49m\u001b[43m,\u001b[49m\n\u001b[0;32m   1889\u001b[0m \u001b[43m\u001b[49m\u001b[43m)\u001b[49m\n\u001b[0;32m   1890\u001b[0m \u001b[38;5;28;01massert\u001b[39;00m \u001b[38;5;28mself\u001b[39m\u001b[38;5;241m.\u001b[39mhandles \u001b[38;5;129;01mis\u001b[39;00m \u001b[38;5;129;01mnot\u001b[39;00m \u001b[38;5;28;01mNone\u001b[39;00m\n\u001b[0;32m   1891\u001b[0m f \u001b[38;5;241m=\u001b[39m \u001b[38;5;28mself\u001b[39m\u001b[38;5;241m.\u001b[39mhandles\u001b[38;5;241m.\u001b[39mhandle\n",
      "File \u001b[1;32mc:\\Users\\doris\\anaconda3\\Lib\\site-packages\\pandas\\io\\common.py:873\u001b[0m, in \u001b[0;36mget_handle\u001b[1;34m(path_or_buf, mode, encoding, compression, memory_map, is_text, errors, storage_options)\u001b[0m\n\u001b[0;32m    868\u001b[0m \u001b[38;5;28;01melif\u001b[39;00m \u001b[38;5;28misinstance\u001b[39m(handle, \u001b[38;5;28mstr\u001b[39m):\n\u001b[0;32m    869\u001b[0m     \u001b[38;5;66;03m# Check whether the filename is to be opened in binary mode.\u001b[39;00m\n\u001b[0;32m    870\u001b[0m     \u001b[38;5;66;03m# Binary mode does not support 'encoding' and 'newline'.\u001b[39;00m\n\u001b[0;32m    871\u001b[0m     \u001b[38;5;28;01mif\u001b[39;00m ioargs\u001b[38;5;241m.\u001b[39mencoding \u001b[38;5;129;01mand\u001b[39;00m \u001b[38;5;124m\"\u001b[39m\u001b[38;5;124mb\u001b[39m\u001b[38;5;124m\"\u001b[39m \u001b[38;5;129;01mnot\u001b[39;00m \u001b[38;5;129;01min\u001b[39;00m ioargs\u001b[38;5;241m.\u001b[39mmode:\n\u001b[0;32m    872\u001b[0m         \u001b[38;5;66;03m# Encoding\u001b[39;00m\n\u001b[1;32m--> 873\u001b[0m         handle \u001b[38;5;241m=\u001b[39m \u001b[38;5;28;43mopen\u001b[39;49m\u001b[43m(\u001b[49m\n\u001b[0;32m    874\u001b[0m \u001b[43m            \u001b[49m\u001b[43mhandle\u001b[49m\u001b[43m,\u001b[49m\n\u001b[0;32m    875\u001b[0m \u001b[43m            \u001b[49m\u001b[43mioargs\u001b[49m\u001b[38;5;241;43m.\u001b[39;49m\u001b[43mmode\u001b[49m\u001b[43m,\u001b[49m\n\u001b[0;32m    876\u001b[0m \u001b[43m            \u001b[49m\u001b[43mencoding\u001b[49m\u001b[38;5;241;43m=\u001b[39;49m\u001b[43mioargs\u001b[49m\u001b[38;5;241;43m.\u001b[39;49m\u001b[43mencoding\u001b[49m\u001b[43m,\u001b[49m\n\u001b[0;32m    877\u001b[0m \u001b[43m            \u001b[49m\u001b[43merrors\u001b[49m\u001b[38;5;241;43m=\u001b[39;49m\u001b[43merrors\u001b[49m\u001b[43m,\u001b[49m\n\u001b[0;32m    878\u001b[0m \u001b[43m            \u001b[49m\u001b[43mnewline\u001b[49m\u001b[38;5;241;43m=\u001b[39;49m\u001b[38;5;124;43m\"\u001b[39;49m\u001b[38;5;124;43m\"\u001b[39;49m\u001b[43m,\u001b[49m\n\u001b[0;32m    879\u001b[0m \u001b[43m        \u001b[49m\u001b[43m)\u001b[49m\n\u001b[0;32m    880\u001b[0m     \u001b[38;5;28;01melse\u001b[39;00m:\n\u001b[0;32m    881\u001b[0m         \u001b[38;5;66;03m# Binary mode\u001b[39;00m\n\u001b[0;32m    882\u001b[0m         handle \u001b[38;5;241m=\u001b[39m \u001b[38;5;28mopen\u001b[39m(handle, ioargs\u001b[38;5;241m.\u001b[39mmode)\n",
      "\u001b[1;31mFileNotFoundError\u001b[0m: [Errno 2] No such file or directory: '../Data/Amazon Sale Report.csv'"
     ]
    }
   ],
   "source": [
    "file_path = \"../Data/Amazon Sale Report.csv\"\n",
    "\n",
    "df = pd.read_csv(file_path, low_memory=False)\n",
    "\n",
    "#* Cleaning column names\n",
    "df.columns = df.columns.str.replace(' ', '_')\n",
    "\n",
    "#* Filling missing values for specific columns\n",
    "df['Courier_Status'] = df['Courier_Status'].fillna('unknown')\n",
    "df['promotion-ids'] = df['promotion-ids'].fillna('no promotion')\n",
    "df.drop(columns=['index','Unnamed:_22'], inplace=True)\n",
    "\n",
    "#print(df.count())\n",
    "print(df.columns)\n"
   ]
  },
  {
   "cell_type": "code",
   "execution_count": null,
   "metadata": {},
   "outputs": [
    {
     "name": "stdout",
     "output_type": "stream",
     "text": [
      "   customer_id    ship-city   ship-state  ship-postal-code ship-country\n",
      "0            1       MUMBAI  MAHARASHTRA          400081.0           IN\n",
      "1            2    BENGALURU    KARNATAKA          560085.0           IN\n",
      "2            3  NAVI MUMBAI  MAHARASHTRA          410210.0           IN\n",
      "3            4   PUDUCHERRY   PUDUCHERRY          605008.0           IN\n",
      "4            5      CHENNAI   TAMIL NADU          600073.0           IN\n"
     ]
    }
   ],
   "source": [
    "#* customer dimension table\n",
    "\n",
    "dim_customer = df[['ship-city', 'ship-state', 'ship-postal-code', 'ship-country']].drop_duplicates().dropna()\n",
    "dim_customer.reset_index(drop=True, inplace=True)\n",
    "dim_customer.insert(0, 'customer_id', dim_customer.index + 1)\n",
    "\n",
    "print(dim_customer.head())\n"
   ]
  },
  {
   "cell_type": "code",
   "execution_count": null,
   "metadata": {},
   "outputs": [
    {
     "name": "stdout",
     "output_type": "stream",
     "text": [
      "Index(['date_id', 'order_date', 'year', 'month', 'day'], dtype='object')\n"
     ]
    }
   ],
   "source": [
    "\n",
    "#* creating dim table for the date \n",
    "df['Date'] = pd.to_datetime(df['Date'], format='%m-%d-%y', errors='coerce')\n",
    "dim_date = df[['Date']].drop_duplicates().dropna().rename(columns={'Date': 'order_date'})\n",
    "dim_date['year'] = dim_date['order_date'].dt.year\n",
    "dim_date['month'] = dim_date['order_date'].dt.month\n",
    "dim_date['day'] = dim_date['order_date'].dt.day\n",
    "dim_date.reset_index(drop=True, inplace=True)\n",
    "dim_date.insert(0, 'date_id', dim_date.index + 1)\n",
    "\n",
    "print(dim_date.columns)"
   ]
  },
  {
   "cell_type": "code",
   "execution_count": null,
   "metadata": {},
   "outputs": [
    {
     "name": "stdout",
     "output_type": "stream",
     "text": [
      "Index(['product_id', 'SKU', 'Category', 'Style', 'Size'], dtype='object')\n"
     ]
    }
   ],
   "source": [
    "dim_product = df[['SKU', 'Category', 'Style', 'Size']].drop_duplicates().dropna()\n",
    "dim_product.reset_index(drop=True, inplace=True)\n",
    "dim_product.insert(0, 'product_id', dim_product.index + 1)\n",
    "print(dim_product.columns)"
   ]
  },
  {
   "cell_type": "code",
   "execution_count": null,
   "metadata": {},
   "outputs": [],
   "source": [
    "dim_fulfillment = df[['Fulfilment', 'Sales_Channel_', 'ship-service-level']].drop_duplicates().dropna()\n",
    "dim_fulfillment.reset_index(drop=True, inplace=True)\n",
    "dim_fulfillment.insert(0, 'fulfillment_id', dim_fulfillment.index + 1)\n",
    "#print(dim_fulfillment)"
   ]
  },
  {
   "cell_type": "code",
   "execution_count": null,
   "metadata": {},
   "outputs": [
    {
     "name": "stdout",
     "output_type": "stream",
     "text": [
      "      promotion_id                                      promotion-ids\n",
      "0                1                                       no promotion\n",
      "1                2  Amazon PLCC Free-Financing Universal Merchant ...\n",
      "2                3       IN Core Free Shipping 2015/04/08 23-48-5-108\n",
      "3                4  Amazon PLCC Free-Financing Universal Merchant ...\n",
      "4                5  Amazon PLCC Free-Financing Universal Merchant ...\n",
      "...            ...                                                ...\n",
      "5783          5784  Amazon PLCC Free-Financing Universal Merchant ...\n",
      "5784          5785  Amazon PLCC Free-Financing Universal Merchant ...\n",
      "5785          5786  Amazon PLCC Free-Financing Universal Merchant ...\n",
      "5786          5787  Amazon PLCC Free-Financing Universal Merchant ...\n",
      "5787          5788  Amazon PLCC Free-Financing Universal Merchant ...\n",
      "\n",
      "[5788 rows x 2 columns]\n"
     ]
    }
   ],
   "source": [
    "dim_promotion = df[['promotion-ids']].drop_duplicates().dropna()\n",
    "dim_promotion.reset_index(drop=True, inplace=True)\n",
    "dim_promotion.insert(0, 'promotion_id', dim_promotion.index + 1)\n",
    "print(dim_promotion)"
   ]
  },
  {
   "cell_type": "code",
   "execution_count": null,
   "metadata": {},
   "outputs": [
    {
     "name": "stdout",
     "output_type": "stream",
     "text": [
      "    status_id                    status_name\n",
      "0           1                      Cancelled\n",
      "1           2   Shipped - Delivered to Buyer\n",
      "2           3                        Shipped\n",
      "3           4   Shipped - Returned to Seller\n",
      "4           5    Shipped - Rejected by Buyer\n",
      "5           6      Shipped - Lost in Transit\n",
      "6           7     Shipped - Out for Delivery\n",
      "7           8  Shipped - Returning to Seller\n",
      "8           9            Shipped - Picked Up\n",
      "9          10                        Pending\n",
      "10         11  Pending - Waiting for Pick Up\n",
      "11         12              Shipped - Damaged\n",
      "12         13                       Shipping\n"
     ]
    }
   ],
   "source": [
    "dim_status = df[['Status']].drop_duplicates().dropna().rename(columns={'Status': 'status_name'})\n",
    "dim_status.reset_index(drop=True, inplace=True)\n",
    "dim_status.insert(0, 'status_id', dim_status.index + 1)\n",
    "print(dim_status)\n"
   ]
  },
  {
   "cell_type": "code",
   "execution_count": null,
   "metadata": {},
   "outputs": [
    {
     "name": "stdout",
     "output_type": "stream",
     "text": [
      "   courier_status_id courier_status_name\n",
      "0                  1             unknown\n",
      "1                  2             Shipped\n",
      "2                  3           Cancelled\n",
      "3                  4           Unshipped\n"
     ]
    }
   ],
   "source": [
    "dim_courier_status = df[['Courier_Status']].drop_duplicates().dropna().rename(columns={'Courier_Status': 'courier_status_name'})\n",
    "dim_courier_status.reset_index(drop=True, inplace=True)\n",
    "dim_courier_status.insert(0, 'courier_status_id', dim_courier_status.index + 1)\n",
    "print(dim_courier_status)"
   ]
  },
  {
   "cell_type": "code",
   "execution_count": null,
   "metadata": {},
   "outputs": [
    {
     "name": "stdout",
     "output_type": "stream",
     "text": [
      "0       2025-03-18 22:42:23.970145\n",
      "1       2025-03-18 22:42:23.970145\n",
      "2       2025-03-18 22:42:23.970145\n",
      "3       2025-03-18 22:42:23.970145\n",
      "4       2025-03-18 22:42:23.970145\n",
      "                   ...            \n",
      "37523   2025-03-18 22:42:23.970145\n",
      "37524   2025-03-18 22:42:23.970145\n",
      "37525   2025-03-18 22:42:23.970145\n",
      "37526   2025-03-18 22:42:23.970145\n",
      "37527   2025-03-18 22:42:23.970145\n",
      "Name: timestamp, Length: 37528, dtype: datetime64[us]\n"
     ]
    }
   ],
   "source": [
    " \n",
    "fact_sales = df[['Order_ID', 'Date', 'ship-city', 'ship-state', 'ship-postal-code', 'ship-country', 'SKU', 'Category', 'Style', 'Fulfilment', 'Sales_Channel_', 'ship-service-level', 'promotion-ids', 'Status', 'Courier_Status', 'Qty', 'Amount', 'currency', 'B2B', 'fulfilled-by']].dropna()\n",
    "\n",
    " \n",
    "df['Date'] = pd.to_datetime(df['Date'], format='%m-%d-%y', errors='coerce')\n",
    "fact_sales['Date'] = pd.to_datetime(fact_sales['Date'], format='%m-%d-%y', errors='coerce')\n",
    "\n",
    "# Merge fact_sales with dimension tables\n",
    "fact_sales = fact_sales.merge(dim_customer, on=['ship-city', 'ship-state', 'ship-postal-code', 'ship-country'], how='left')\n",
    "fact_sales = fact_sales.merge(dim_product, on=['SKU', 'Category', 'Style'], how='left')\n",
    "fact_sales = fact_sales.merge(dim_fulfillment, on=['Fulfilment', 'Sales_Channel_', 'ship-service-level'], how='left')\n",
    "fact_sales = fact_sales.merge(dim_promotion, on=['promotion-ids'], how='left')\n",
    "fact_sales = fact_sales.merge(dim_status, left_on='Status', right_on='status_name', how='left').drop(columns=['status_name'])\n",
    "fact_sales = fact_sales.merge(dim_courier_status, left_on='Courier_Status', right_on='courier_status_name', how='left').drop(columns=['courier_status_name'])\n",
    "\n",
    " \n",
    "fact_sales = fact_sales.merge(dim_date, left_on='Date', right_on='order_date', how='left')\n",
    "\n",
    " \n",
    "fact_sales = fact_sales.rename(columns={'Order_ID': 'order_id', 'Qty': 'quantity', 'Amount': 'amount'})\n",
    "\n",
    "fact_sales['timestamp'] = pd.Timestamp.now()\n",
    " \n",
    "fact_sales = fact_sales[['order_id', 'date_id', 'customer_id', 'product_id', 'fulfillment_id', 'promotion_id', 'status_id', 'courier_status_id', 'quantity', 'amount', 'currency', 'B2B', 'fulfilled-by', 'timestamp']]\n",
    "\n",
    " \n",
    "fact_sales.reset_index(drop=True, inplace=True)\n",
    "\n",
    "print(fact_sales['timestamp'])"
   ]
  },
  {
   "cell_type": "code",
   "execution_count": null,
   "metadata": {},
   "outputs": [],
   "source": [
    "#* saving the dimension table to a csv file\n",
    "dim_customer.to_csv('../Data/dim_customer.csv', index=False)\n",
    "dim_date.to_csv('../Data/dim_date.csv', index=False)\n",
    "dim_product.to_csv('../Data/dim_product.csv', index=False)\n",
    "dim_fulfillment.to_csv('../Data/dim_fulfillment.csv', index=False)\n",
    "dim_promotion.to_csv('../Data/dim_promotion.csv', index=False)\n",
    "dim_status.to_csv('../Data/dim_status.csv', index=False)\n",
    "dim_courier_status.to_csv('../Data/dim_courier_status.csv', index=False)\n",
    "fact_sales.to_csv(\"../Data/fact_sales.csv\", index=False)\n"
   ]
  }
 ],
 "metadata": {
  "kernelspec": {
   "display_name": "base",
   "language": "python",
   "name": "python3"
  },
  "language_info": {
   "codemirror_mode": {
    "name": "ipython",
    "version": 3
   },
   "file_extension": ".py",
   "mimetype": "text/x-python",
   "name": "python",
   "nbconvert_exporter": "python",
   "pygments_lexer": "ipython3",
   "version": "3.12.7"
  }
 },
 "nbformat": 4,
 "nbformat_minor": 2
}
